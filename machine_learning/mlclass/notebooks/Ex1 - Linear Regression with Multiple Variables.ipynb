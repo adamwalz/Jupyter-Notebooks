{
 "metadata": {
  "name": "",
  "signature": "sha256:023cc236834319b77e9859ea81b91f84461dabc391733192e35301cf86237ed4"
 },
 "nbformat": 3,
 "nbformat_minor": 0,
 "worksheets": [
  {
   "cells": [
    {
     "cell_type": "markdown",
     "metadata": {},
     "source": [
      "# Extra Credit Exercises (optional)\n",
      "\n",
      "If you have successfully completed the material for Linear Regression with One Variable, congratulations! You now understand linear regression and should able to start using it on your own datasets.\n",
      "\n",
      "For the rest of this programming exercise, we have included the following optional extra credit exercises. These exercises will help you gain a deeper understanding of the material, and if you are able to do so, we encourage you to complete them as well.\n",
      "\n",
      "# Linear regression with Multiple Variables\n",
      "\n",
      "In this part, you will implement linear regression with multiple variables to predict the prices of houses. Suppose you are selling your house and you want to know what a good market price would be. One way to do this is to first collect information on recent houses sold and make a model of housing prices."
     ]
    },
    {
     "cell_type": "code",
     "collapsed": false,
     "input": [
      "# Import numpy for linear algebra and numerical computing functions, and matplotlib for plotting graphs\n",
      "import numpy as np\n",
      "from numpy import ones, zeros, newaxis, r_, c_, mat, dot\n",
      "from numpy.linalg import pinv\n",
      "import matplotlib.pyplot as plt\n",
      "\n",
      "from IPython.html import widgets\n",
      "from IPython.html.widgets import *\n",
      "from IPython.display import display\n",
      "\n",
      "# Enable matplotlib inline plotting for this notebook\n",
      "%matplotlib inline"
     ],
     "language": "python",
     "metadata": {},
     "outputs": []
    },
    {
     "cell_type": "markdown",
     "metadata": {},
     "source": [
      "The file ex1data2.txt contains a training set of housing prices in Portland, Oregon. The first column is the size of the house (in square feet), the second column is the number of bedrooms, and the third column is the price of the house."
     ]
    },
    {
     "cell_type": "code",
     "collapsed": false,
     "input": [
      "data = np.loadtxt('../data/ex1data2.txt', delimiter=',')\n",
      "unormalized_X = mat(data[:, :2]) # training example inputs\n",
      "y = c_[data[:, 2]]   # training example outputs\n",
      "m = unormalized_X.shape[0]\n",
      "\n",
      "data[:5] # First 5 rows of training examples (just for viewing)"
     ],
     "language": "python",
     "metadata": {},
     "outputs": []
    },
    {
     "cell_type": "markdown",
     "metadata": {},
     "source": [
      "## Feature Normalization\n",
      "\n",
      "The next cell will start by loading and displaying some values from this dataset. By looking at the values, note that house sizes are about 1000 times the number of bedrooms. When features differ by orders of magnitude, first performing feature scaling can make gradient descent converge much more quickly.\n",
      "\n",
      "\n",
      "Your task here is to complete the code in feature_normalize() to\n",
      "\n",
      "* Subtract the mean value of each feature from the dataset.\n",
      "* After subtracting the mean, additionally scale (divide) the feature values by their respective \u201cstandard deviations.\u201d\n",
      "\n",
      "The standard deviation is a way of measuring how much variation there is in the range of values of a particular feature (most data points will lie within \\\\(\\pm\\\\)2 standard deviations of the mean); this is an alternative to taking the range of values (max-min).\n",
      "\n",
      "In Numpy, you can use the \u201cstd\u201d function to compute the standard deviation. For example, inside feature_normalize(), the quantity `X[:,1]` contains all the values of x1 (house sizes) in the training set, so `std(X[:,1])` computes the standard deviation of the house sizes. At the time that feature_normalize() is called, the extra column of 1\u2019s corresponding to \\\\(x_0\\\\) = 1 has not yet been added to X.\n",
      "\n",
      "You will do this for all the features and your code should work with datasets of all sizes (any number of features / examples). Note that each column of the matrix X corresponds to one feature.\n",
      "\n",
      "**Implementation Note**: When normalizing the features, it is important to store the values used for normalization - the mean value and the standard deviation used for the computations. After learning the parameters from the model, we often want to predict the prices of houses we have not seen before. Given a new x value (living room area and number of bedrooms), we must first normalize x using the mean and standard deviation that we had previously computed from the training set.}"
     ]
    },
    {
     "cell_type": "code",
     "collapsed": false,
     "input": [
      "def feature_normalize(X):\n",
      "    \"\"\"Normalizes the features in X\n",
      "    returns a normalized version of X where the mean value of each feature\n",
      "    is 0 and the standard deviation is 1. This is often a good preprocessing\n",
      "    step to do when working with learning algorithms.\n",
      "    \"\"\"\n",
      "    \n",
      "    # You need to set these values correctly\n",
      "    X_norm = X.copy().A\n",
      "    mu = zeros(X.shape[1])\n",
      "    sigma = zeros(X.shape[1])\n",
      " \n",
      "    ### YOUR CODE HERE ###\n",
      "    # Instructions: First, for each feature dimension, compute the mean\n",
      "    #               of the feature and subtract it from the dataset,\n",
      "    #               storing the mean value in mu. Next, compute the\n",
      "    #               standard deviation of each feature and divide\n",
      "    #               each feature by it's standard deviation, storing\n",
      "    #               the standard deviation in sigma.\n",
      "    #\n",
      "    #               Note that X is a matrix where each column is a\n",
      "    #               feature and each row is an example. You need\n",
      "    #               to perform the normalization separately for\n",
      "    #               each feature.\n",
      "    #\n",
      "    # Hint: You might find the 'mean' and 'std' functions useful.\n",
      "    #\n",
      " \n",
      "    return mat(X_norm), mu, sigma"
     ],
     "language": "python",
     "metadata": {},
     "outputs": []
    },
    {
     "cell_type": "code",
     "collapsed": false,
     "input": [
      "# Normalize input matrix X\n",
      "# Note: Although normalization is idempotent,\n",
      "# some implementations of feature_normalize may alter mu and sigma\n",
      "# if called multiple times. To make sure this is not happening, mu and\n",
      "# sigma are printed here\n",
      "X, mu, sigma = feature_normalize(unormalized_X)\n",
      "print(\"mu = \", mu)\n",
      "print(\"sigma = \", sigma)"
     ],
     "language": "python",
     "metadata": {},
     "outputs": []
    },
    {
     "cell_type": "markdown",
     "metadata": {},
     "source": [
      "# Gradient Descent\n",
      "\n",
      "Previously, you implemented gradient descent on a univariate regression problem. The only difference now is that there is one more feature in the matrix X. The hypothesis function and the batch gradient descent update rule remain unchanged.\n",
      "\n",
      "You should complete the code in compute_cost and gradient_descent() to implement the cost function and gradient descent for linear regression with multiple variables. If your code in the previous part (single variable) already supports multiple variables, you can use it here too.\n",
      "\n",
      "Make sure your code supports any number of features and is well-vectorized. You can use `X.shape[1]` to find out how many features are present in the dataset.\n",
      "\n",
      "**Implementation Note:** In the multivariate case, the cost function can also be written in the following vectorized form:\n",
      "\n",
      "$$J(\\theta) = \\frac{1}{2m} (X\\theta - \\vec{y})^T (X\\theta - \\vec{y})$$\n",
      "\n",
      "where\n",
      "\n",
      "$$\n",
      "X = \\begin{bmatrix} - (x^{(1)})^T - \\\\ - (x^{(2)})^T - \\\\ \\vdots \\\\ - (x^{(m)})^T -\\end{bmatrix}\n",
      "y = \\begin{bmatrix} y^{(1)}) \\\\ y^{(2)}) \\\\ \\vdots \\\\ y^{(m)})\\end{bmatrix}\n",
      "$$\n",
      "\n",
      "The vectorized version is efficient when you\u2019re working with numerical computing tools like Numpy. If you are an expert with matrix operations, you can prove to yourself that the two forms are equivalent."
     ]
    },
    {
     "cell_type": "code",
     "collapsed": false,
     "input": [
      "def compute_cost(X, y, theta):\n",
      "    \"\"\"Compute cost for linear regression with multiple variables\n",
      "    computes the cost of using theta as the parameter\n",
      "    for linear regression to fit the data points X and y\n",
      "    \"\"\"\n",
      "    # Initialize some useful variables\n",
      "    m = X.shape[0] # number of training examples\n",
      "\n",
      "    # You need to return the following variables correctly\n",
      "    J = 0\n",
      "\n",
      "    ### YOUR CODE HERE ###\n",
      "    # Instructions: Compute the cost of a particular choice of theta\n",
      "    # You should set J to the cost.\n",
      "    \n",
      "    return J"
     ],
     "language": "python",
     "metadata": {},
     "outputs": []
    },
    {
     "cell_type": "code",
     "collapsed": false,
     "input": [
      "def gradient_descent(X, y, theta, alpha, num_iters):\n",
      "    \"\"\"Performs gradient descent to learn theta\n",
      "    updates theta by taking num_iters gradient steps\n",
      "    with learning rate alpha\n",
      "    \"\"\"\n",
      "    # Initialize some useful values\n",
      "    m = X.shape[0] # number of training examples\n",
      "    J_history = zeros(num_iters)\n",
      "    \n",
      "    for i in range(num_iters):\n",
      "        ### YOUR CODE HERE ###\n",
      "        # Instructions: Perform a single gradient step on the parameter vector\n",
      "        #               theta. \n",
      "        #\n",
      "        # Hint: While debugging, it can be useful to print out the values\n",
      "        #       of the cost function (computeCost) and gradient here.\n",
      "        #\n",
      "        \n",
      "        # Save the cost J in every iteration\n",
      "        J_history[i] = compute_cost(X, y, theta)\n",
      "        \n",
      "    return theta, J_history"
     ],
     "language": "python",
     "metadata": {},
     "outputs": []
    },
    {
     "cell_type": "code",
     "collapsed": false,
     "input": [
      "X, mu, sigma = feature_normalize(unormalized_X) # normalize with mu=0, std=1\n",
      "X = c_[np.ones(m), X] # Add a column of ones to X for the theta_0 intercept term\n",
      "\n",
      "theta = c_[np.zeros(3)] # initialize fitting parameters to 0\n",
      "\n",
      "iterations = 400\n",
      "alpha = 0.01\n",
      "\n",
      "theta, J_history = gradient_descent(mat(X), y, theta, alpha, iterations)\n",
      "\n",
      "print('Theta found by gradient descent:\\n', theta)"
     ],
     "language": "python",
     "metadata": {},
     "outputs": []
    },
    {
     "cell_type": "markdown",
     "metadata": {},
     "source": [
      "## Optional (ungraded) exercise: Selecting learning rates\n",
      "\n",
      "In this part of the exercise, you will get to try out different learning rates for the dataset and find a learning rate that converges quickly. We will loop over different learning rates\n",
      "\n",
      "\n",
      "The next phase will call your gradient_descent() function and run gradient descent for about 50 iterations at the chosen learning rate. The function should also return the history of \\\\(J(\\theta\\\\) values in a vector J. After the last iteration, the cell will plot the J values against the number of the iterations.\n",
      "\n",
      "If you picked a learning rate within a good range, your plot decrease quickly and level off at around 25 iterations. If your graph looks very different, especially if your value of \\\\(J(\\theta\\\\) increases or even blows up, adjust your learning rate and try again. We recommend trying values of the learning rate \\\\(\\alpha\\\\) on a log-scale, at multiplicative steps of about 3 times the previous value (i.e., 0.3, 0.1, 0.03, 0.01 and so on).\n",
      "\n",
      "You may also want to adjust the number of iterations you are running if that will help you see the overall trend in the curve."
     ]
    },
    {
     "cell_type": "code",
     "collapsed": false,
     "input": [
      "X, mu, sigma = feature_normalize(unormalized_X) # Normalize with mu=0, std=1\n",
      "X = c_[np.ones(m), X] # Add a column of ones to X for the theta_0 intercept term\n",
      " \n",
      "iterations = 100\n",
      "\n",
      "def plot_convergence(alpha):\n",
      "    theta = c_[np.zeros(3)]\n",
      "    theta, J_history = gradient_descent(X, y, theta, alpha, iterations)\n",
      "    \n",
      "    # Plot the convergence graph\n",
      "    plt.plot(r_[:iterations], J_history, linewidth=1)\n",
      "    plt.xlim(0, 40)\n",
      "    plt.xlabel('Number of iterations')\n",
      "    plt.ylabel('Cost J')\n",
      "interact(plot_convergence, alpha=widgets.FloatSliderWidget(min=0,max=1.29,step=0.03,value=0.5))"
     ],
     "language": "python",
     "metadata": {},
     "outputs": []
    },
    {
     "cell_type": "markdown",
     "metadata": {},
     "source": [
      "**Implementation Note:** If your learning rate is too large, \\\\(J(\\theta\\\\) can diverge and \u2018blow up\u2019, resulting in values which are too large for computer calculations. \n",
      "\n",
      "**Python Tip:** To compare how different learning learning rates affect convergence, it\u2019s helpful to plot J for several learning rates on the same plot. In Matplotlib, this can be done by performing gradient descent multiple times with a \u2018hold on\u2019 command between plots. Concretely, if you\u2019ve tried three different values of \\\\(\\alpha\\\\) (you should probably try more values than this) and stored the costs in J1, J2 and J3, you can use the following commands to plot them on the same figure:\n",
      "\n",
      "    plot(1:50, J1(1:50), \u2018b\u2019);\n",
      "    hold on;\n",
      "    plot(1:50, J2(1:50), \u2018r\u2019);\n",
      "    plot(1:50, J3(1:50), \u2018k\u2019);\n",
      "\n",
      "The final arguments \u2018b\u2019, \u2018r\u2019, and \u2018k\u2019 specify different colors for the plots."
     ]
    },
    {
     "cell_type": "markdown",
     "metadata": {},
     "source": [
      "Notice the changes in the convergence curves as the learning rate changes. With a small learning rate, you should find that gradient descent takes a very long time to converge to the optimal value. Conversely, with a large learning rate, gradient descent might not converge or might even diverge!\n",
      "\n",
      "Using the best learning rate that you found, run next cell with gradient descent until convergence to find the final values of \\\\(\\theta\\\\). Next, use this value of \\\\(\\theta\\\\) to predict the price of a house with 1650 square feet and 3 bedrooms. You will use value later to check your implementation of the normal equations. Don\u2019t forget to normalize your features when you make this prediction!"
     ]
    },
    {
     "cell_type": "code",
     "collapsed": false,
     "input": [
      "house = [1650, 3]\n",
      "house = (house - mu) / sigma\n",
      "price = r_[1, house].dot(theta)\n",
      "\n",
      "price = price.A[0][0] # If price is a matrix, pull out the first value\n",
      "print('For a house with 1650 sq-ft and 3 bedrooms, we predict a price of ${:.2f}'.format(price))"
     ],
     "language": "python",
     "metadata": {},
     "outputs": []
    },
    {
     "cell_type": "markdown",
     "metadata": {},
     "source": [
      "# Normal Equations\n",
      "\n",
      "In the lecture videos, you learned that the closed-form solution to linear regression is\n",
      "\n",
      "$$\\theta = \\left(X^TX\\right)^{-1} X^T\\vec{y}$$\n",
      "\n",
      "Using this formula does not require any feature scaling, and you will get an exact solution in one calculation: there is no \u201cloop until convergence\u201d like in gradient descent.\n",
      "\n",
      "Complete the function normal_eqn() to use the formula above to calculate \\\\(\\theta\\\\). Remember that while you don\u2019t need to scale your features, we still need to add a column of 1\u2019s to the X matrix to have an intercept term \\\\(\\theta_0\\\\)."
     ]
    },
    {
     "cell_type": "code",
     "collapsed": false,
     "input": [
      "def normalEqn(X, y):\n",
      "    \"\"\"Computes the closed-form solution to linear regression\n",
      "    computes the closed-form solution to linear regression using the normal equations.\n",
      "    \"\"\"\n",
      "    theta = c_[np.zeros(3)]\n",
      "    \n",
      "    ### YOUR CODE HERE ###\n",
      "    # Instructions: Complete the code to compute the closed form solution\n",
      "    #               to linear regression and put the result in theta.\n",
      "    #\n",
      "    \n",
      "    return theta"
     ],
     "language": "python",
     "metadata": {},
     "outputs": []
    },
    {
     "cell_type": "markdown",
     "metadata": {},
     "source": [
      "*Optional (ungraded) exercise:* Now, once you have found \\\\(\\theta\\\\) using this method, use it to make a price prediction for a 1650-square-foot house with 3 bedrooms.\n",
      "\n",
      "You should find that this gives the same predicted price as the value you obtained using the model fit with gradient descent."
     ]
    },
    {
     "cell_type": "code",
     "collapsed": false,
     "input": [
      "X = mat(data[:, :2])\n",
      "X = c_[np.ones(m), X]\n",
      "\n",
      "theta = normalEqn(X, y)\n",
      "print('Theta computed from the normal equations:\\n', theta)\n",
      "\n",
      "house = [1650, 3];\n",
      "price = r_[1, house].dot(theta);\n",
      "\n",
      "price = price.A[0][0] # If price is a matrix, pull out the first value\n",
      "print('For a house with 1650 sq-ft and 3 bedrooms, we predict a price of ${:.2f}'.format(price))"
     ],
     "language": "python",
     "metadata": {},
     "outputs": []
    }
   ],
   "metadata": {}
  }
 ]
}