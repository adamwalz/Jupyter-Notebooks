{
 "metadata": {
  "name": "",
  "signature": "sha256:afd6dbc0330a3f5312519af47d5553c5d76ea1ed019a665a181bb852efa825ae"
 },
 "nbformat": 3,
 "nbformat_minor": 0,
 "worksheets": [
  {
   "cells": [
    {
     "cell_type": "markdown",
     "metadata": {},
     "source": [
      "# Linear Regression with One Variable\n",
      "\n",
      "In this part of this exercise, you will implement linear regression with one variable to predict profits for a food truck. Suppose you are the CEO of a restaurant franchise and are considering different cities for opening a new outlet. The chain already has trucks in various cities and you have data for profits and populations from the cities.\n",
      "\n",
      "You would like to use this data to help you select which city to expand to next."
     ]
    },
    {
     "cell_type": "code",
     "collapsed": false,
     "input": [
      "# Import numpy for linear algebra and numerical computing functions, and matplotlib for plotting graphs\n",
      "import numpy as np\n",
      "from numpy import ones, zeros, newaxis, r_, c_, mat, dot\n",
      "import matplotlib.pyplot as plt\n",
      "\n",
      "# Enable matplotlib inline plotting for this notebook\n",
      "%matplotlib inline"
     ],
     "language": "python",
     "metadata": {},
     "outputs": []
    },
    {
     "cell_type": "markdown",
     "metadata": {},
     "source": [
      "The file ex1data1.txt contains the dataset for our linear regression prob- lem. The first column is the population of a city and the second column is the profit of a food truck in that city. A negative value for profit indicates a loss."
     ]
    },
    {
     "cell_type": "code",
     "collapsed": false,
     "input": [
      "data = np.loadtxt('../data/ex1data1.txt', delimiter=',')\n",
      "X = mat(data[:, :1]) # training example inputs\n",
      "y = c_[data[:, 1]]   # training example outputs\n",
      "m = X.shape[0]\n",
      "\n",
      "data[:5] # First 5 rows of training examples (just for viewing)"
     ],
     "language": "python",
     "metadata": {},
     "outputs": []
    },
    {
     "cell_type": "markdown",
     "metadata": {},
     "source": [
      "# Plotting the Data\n",
      "\n",
      "Before starting on any task, it is often useful to understand the data by visualizing it. For this dataset, you can use a scatter plot to visualize the data, since it has only two properties to plot (profit and population). (Many other problems that you will encounter in real life are multi-dimensional and can\u2019t be plotted on a 2-d plot.)\n",
      "\n",
      "Your job is to complete plot_data(X,y) to draw the plot."
     ]
    },
    {
     "cell_type": "code",
     "collapsed": false,
     "input": [
      "def plot_data(X, y):\n",
      "    \"\"\"\"Plots the data points x and y into a new figure\n",
      "    plots the data points and gives the figure axes labels of\n",
      "    population and profit.\n",
      "    \"\"\"\n",
      "\n",
      "    ### YOUR CODE HERE ###\n",
      "    # Instructions: Plot the training data into a figure using the\n",
      "    #               \"plot\" command. Set the axes labels using\n",
      "    #               the \"xlabel\" and \"ylabel\" commands. Assume the\n",
      "    #               population and revenue data have been passed in\n",
      "    #               as the X and y arguments of this function.\n",
      "    #\n",
      "    # Hint: You can use the 'rx' option with plot to have the markers\n",
      "    #       appear as red crosses. Furthermore, you can make the\n",
      "    #       markers larger by using plt.plot(..., 'rx', markersize=7)\n",
      "    #\n",
      "    #       To get help with plotting in IPython notebooks, start typing\n",
      "    #       plt.plot( and the press Shift-tab\n",
      "    #       Pressing Shift-tab multiple times will give more verbose help options\n",
      "    pass"
     ],
     "language": "python",
     "metadata": {},
     "outputs": []
    },
    {
     "cell_type": "code",
     "collapsed": false,
     "input": [
      "# When you are done implementing plot_data(X, y) run this cell\n",
      "# This will take the X array (Population of the city) and plot it against\n",
      "# the output array y (Profit of a food truck in that city)\n",
      "plot_data(X.A, y)"
     ],
     "language": "python",
     "metadata": {},
     "outputs": []
    },
    {
     "cell_type": "markdown",
     "metadata": {},
     "source": [
      "# Gradient Descent\n",
      "\n",
      "In this part, you will fit the linear regression parameters \u03b8 to our dataset using gradient descent.\n",
      "\n",
      "## Update Equations\n",
      "\n",
      "The objective of linear regression is to minimize the cost function\n",
      "\n",
      "$$J(\\theta) = \\frac{1}{2m} \\sum_{i=1}^{m}\\left(h_\\theta(x^{(i)}) - y^{(i)}\\right)^2$$\n",
      "\n",
      "where the hypothesis \\\\(h_\\theta(x)\\\\) is given by the linear model\n",
      "\n",
      "$$h_\\theta(x) = \\theta^Tx = \\theta_0 + \\theta_1x_1$$\n",
      "\n",
      "\n",
      "Recall that the parameters of your model are the \\\\(\\theta_j\\\\) values. These are the values you will adjust to minimize cost \\\\(J(\\theta)\\\\). One way to do this is to use the batch gradient descent algorithm. In batch gradient descent, each iteration performs the update\n",
      "\n",
      "$$\\theta_J := \\theta_J - \\alpha\\frac{1}{m}\\sum_{i=1}^{m}\\left(h_\\theta(x^{(i)}) - y^{(i)}\\right)x_j^{(i)}$$\n",
      "\n",
      "With each step of gradient descent, your parameters \\\\(\\theta_j\\\\) come closer to the optimal values that will achieve the lowest cost \\\\(J(\\theta)\\\\).\n",
      "\n",
      "## Implementation\n",
      "\n",
      "We have already set up the data for linear regression. In the following lines, we add another dimension to our data to accommodate the \\\\(\\theta_0\\\\) intercept term. We also initialize the initial parameters to 0 and the learning rate alpha to 0.01."
     ]
    },
    {
     "cell_type": "code",
     "collapsed": false,
     "input": [
      "X = mat(data[:, :1]) # Original input data\n",
      "X = c_[np.ones(m), X] # Add a column of ones to X for the theta_0 intercept term\n",
      "\n",
      "theta = c_[np.zeros(2)] # initialize fitting parameters to 0\n",
      "\n",
      "iterations = 1500\n",
      "alpha = 0.01"
     ],
     "language": "python",
     "metadata": {},
     "outputs": []
    },
    {
     "cell_type": "markdown",
     "metadata": {},
     "source": [
      "## Computing the Cost of \\\\(J(\\theta)\\\\)\n",
      "\n",
      "As you perform gradient descent to learn minimize the cost function \\\\(J(\\theta)\\\\), it is helpful to monitor the convergence by computing the cost. In this section, you will implement a function to calculate \\\\(J(\\theta)\\\\) so you can check the convergence of your gradient descent implementation.\n",
      "\n",
      "Your next task is to complete the function compute_cost(X, y, theta), which is a function that computes \\\\(J(\\theta)\\\\). As you are doing this, remember that the variables X and y are not scalar values, but matrices whose rows represent the examples from the training set."
     ]
    },
    {
     "cell_type": "code",
     "collapsed": false,
     "input": [
      "def compute_cost(X, y, theta):\n",
      "    \"\"\"Compute cost for linear regression\n",
      "    computes the cost of using theta as the parameter\n",
      "    for linear regression to fit the data points X and y\n",
      "    \"\"\"\n",
      "    # Initialize some useful variables\n",
      "    m = X.shape[0] # number of training examples\n",
      "\n",
      "    # You need to return the following variables correctly\n",
      "    J = 0\n",
      "\n",
      "    ### YOUR CODE HERE ###\n",
      "    # Instructions: Compute the cost of a particular choice of theta\n",
      "    # You should set J to the cost.\n",
      "    \n",
      "    \n",
      "    return J"
     ],
     "language": "python",
     "metadata": {},
     "outputs": []
    },
    {
     "cell_type": "markdown",
     "metadata": {},
     "source": [
      "Once you have completed the function, the next cell will run compute_cost once using \\\\(\\theta\\\\) initialized to zeros, and you will see the cost printed to the screen.\n",
      "\n",
      "You should expect to see a cost of 32.07"
     ]
    },
    {
     "cell_type": "code",
     "collapsed": false,
     "input": [
      "# Initial cost using theta = [0,0]\n",
      "compute_cost(mat(X), y, theta)"
     ],
     "language": "python",
     "metadata": {},
     "outputs": []
    },
    {
     "cell_type": "markdown",
     "metadata": {},
     "source": [
      "## Gradient descent\n",
      "\n",
      "Next, you will implement gradient descent in the function gradient_descent(X, y, theta, alpha, num_iters). The loop structure has been written for you, and you only need to supply the updates to \\\\(\\theta\\\\) within each iteration.\n",
      "\n",
      "As you program, make sure you understand what you are trying to optimize and what is being updated. Keep in mind that the cost \\\\(J(\\theta)\\\\) is parameterized by the vector \\\\(\\theta\\\\), not X and y. That is, we minimize the value of \\\\(J(\\theta)\\\\) by changing the values of the vector \\\\(\\theta\\\\), not by changing X or y. Refer to the equations in this handout and to the video lectures if you are uncertain.\n",
      "\n",
      "A good way to verify that gradient descent is working correctly is to look at the value of \\\\(J(\\theta)\\\\) and check that it is decreasing with each step. The starter code for gradient_descent calls compute_cost on every iteration and prints the cost. Assuming you have implemented gradient descent and compute_cost correctly, your value of \\\\(J(\\theta)\\\\) should never increase, and should converge to a steady value by the end of the algorithm."
     ]
    },
    {
     "cell_type": "code",
     "collapsed": false,
     "input": [
      "def gradient_descent(X, y, theta, alpha, num_iters):\n",
      "    \"\"\"Performs gradient descent to learn theta\n",
      "    updates theta by taking num_iters gradient steps\n",
      "    with learning rate alpha\n",
      "    \"\"\"\n",
      "    # Initialize some useful values\n",
      "    m = X.shape[0] # number of training examples\n",
      "    J_history = zeros(num_iters)\n",
      "    \n",
      "    for i in range(num_iters):\n",
      "        ### YOUR CODE HERE ###\n",
      "        # Instructions: Perform a single gradient step on the parameter vector\n",
      "        #               theta. \n",
      "        #\n",
      "        # Hint: While debugging, it can be useful to print out the values\n",
      "        #       of the cost function (computeCost) and gradient here.\n",
      "        #\n",
      "        \n",
      "        \n",
      "        # Save the cost J in every iteration\n",
      "        J_history[i] = compute_cost(X, y, theta)\n",
      "        \n",
      "    return theta, J_history"
     ],
     "language": "python",
     "metadata": {},
     "outputs": []
    },
    {
     "cell_type": "markdown",
     "metadata": {},
     "source": [
      "After you are finished, the next cell will use your final parameters to plot the linear fit."
     ]
    },
    {
     "cell_type": "code",
     "collapsed": false,
     "input": [
      "theta, J_history = gradient_descent(mat(X), y, theta, alpha, iterations)\n",
      "\n",
      "print('Theta found by gradient descent:\\n', theta)\n",
      "\n",
      "x_feature = X.A[:, 1]\n",
      "plot_data(x_feature, y)\n",
      "plt.plot(x_feature, (X*theta).A, '-')\n",
      "plt.legend(['Training data', 'Linear regression'], loc='lower right')"
     ],
     "language": "python",
     "metadata": {},
     "outputs": []
    },
    {
     "cell_type": "markdown",
     "metadata": {},
     "source": [
      "Your final values for \\\\(\\theta\\\\) will also be used to make predictions on profits in areas of 35,000 and 70,000 people. Note the way that the lines in the following cell use matrix multiplication, rather than explicit summation or looping, to calculate the predictions. This is an example of code vectorization in Numpy."
     ]
    },
    {
     "cell_type": "code",
     "collapsed": false,
     "input": [
      "predict1 = dot([1, 3.5], theta)\n",
      "# predict1 = predict1.A[0][0] # If predict1 is a matrix, pull out the first value\n",
      "print('For population = 35,000, we predict a profit of ${:.2f}'.format(predict1 * 10000))\n",
      "\n",
      "predict2 = dot([1, 7.0], theta)\n",
      "# predict2 = predict2.A[0][0] # If predict2 is a matrix, pull out the first value\n",
      "print('For population = 70,000, we predict a profit of ${:.2f}'.format(predict2 * 10000))"
     ],
     "language": "python",
     "metadata": {},
     "outputs": []
    },
    {
     "cell_type": "markdown",
     "metadata": {},
     "source": [
      "# Visualizing \\\\(J(\\theta)\\\\)\n",
      "\n",
      "To understand the cost function \\\\(J(\\theta)\\\\) better, you will now plot the cost over a 2-dimensional grid of \\\\(\\theta_0\\\\) and \\\\(\\theta_1\\\\) values. You will not need to code anything new for this part, but you should understand how the code you have written already is creating these images.\n",
      "\n",
      "In the next cell, there is code set up to calculate \\\\(J(\\theta)\\\\) over a grid of values using the compute_cost function that you wrote."
     ]
    },
    {
     "cell_type": "code",
     "collapsed": false,
     "input": [
      "theta0_vals = np.linspace(-10, 10, 100)\n",
      "theta1_vals = np.linspace(-1, 4, 100)\n",
      "\n",
      "J_vals = np.zeros((len(theta0_vals), len(theta1_vals)))\n",
      " \n",
      "for i in range(len(theta0_vals)):\n",
      "    for j in range(len(theta1_vals)):\n",
      "        t = r_[theta0_vals[i], theta1_vals[j]][:, newaxis]\n",
      "        J_vals[i, j] = compute_cost(X, y, t)\n",
      "\n",
      "J_vals = J_vals.T\n",
      "plt.contour(theta0_vals, theta1_vals, J_vals, np.logspace(-2, 3, 20))\n",
      "plt.plot(theta.A[0][0], theta.A[1][0], 'rx', markersize=10, linewidth=5)\n",
      "plt.xlabel(r'$\\Theta_0$'); plt.ylabel(r'$\\Theta_1$')"
     ],
     "language": "python",
     "metadata": {},
     "outputs": []
    },
    {
     "cell_type": "markdown",
     "metadata": {},
     "source": [
      "The purpose of this graph is to show you that how \\\\(J(\\theta)\\\\) varies with changes in \\\\(\\theta_0\\\\) and \\\\(\\theta_1\\\\). The cost function \\\\(J(\\theta)\\\\) is bowl-shaped and has a global mininum. (This is easier to see in the contour plot than in the 3D surface plot). This minimum is the optimal point for \\\\(\\theta_0\\\\) and \\\\(\\theta_1\\\\), and each step of gradient descent moves closer to this point."
     ]
    }
   ],
   "metadata": {}
  }
 ]
}