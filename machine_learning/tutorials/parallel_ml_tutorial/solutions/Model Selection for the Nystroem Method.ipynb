{
 "metadata": {
  "name": "Model Selection for the Nystroem Method"
 },
 "nbformat": 3,
 "nbformat_minor": 0,
 "worksheets": [
  {
   "cells": [
    {
     "cell_type": "code",
     "collapsed": false,
     "input": [
      "import sys\n",
      "sys.path.append('..')\n",
      "%pylab inline\n",
      "import pylab as pl\n",
      "import numpy as np\n",
      "\n",
      "# Some nice default configuration for plots\n",
      "pl.rcParams['figure.figsize'] = 10, 7.5\n",
      "pl.rcParams['axes.grid'] = True\n",
      "pl.gray()"
     ],
     "language": "python",
     "metadata": {},
     "outputs": []
    },
    {
     "cell_type": "heading",
     "level": 2,
     "metadata": {},
     "source": [
      "IPython.parallel"
     ]
    },
    {
     "cell_type": "code",
     "collapsed": false,
     "input": [
      "from IPython.parallel import Client\n",
      "client = Client()"
     ],
     "language": "python",
     "metadata": {},
     "outputs": []
    },
    {
     "cell_type": "code",
     "collapsed": false,
     "input": [
      "len(client)"
     ],
     "language": "python",
     "metadata": {},
     "outputs": []
    },
    {
     "cell_type": "code",
     "collapsed": false,
     "input": [
      "%px print(\"Hello from the cluster engines!\")"
     ],
     "language": "python",
     "metadata": {},
     "outputs": []
    },
    {
     "cell_type": "code",
     "collapsed": false,
     "input": [
      "def where_am_i():\n",
      "    import os\n",
      "    import socket\n",
      "    \n",
      "    return \"In process with pid {0} on host: '{1}'\".format(\n",
      "        os.getpid(), socket.gethostname())\n"
     ],
     "language": "python",
     "metadata": {},
     "outputs": []
    },
    {
     "cell_type": "code",
     "collapsed": false,
     "input": [
      "where_am_i()"
     ],
     "language": "python",
     "metadata": {},
     "outputs": []
    },
    {
     "cell_type": "heading",
     "level": 4,
     "metadata": {},
     "source": [
      "Direct View"
     ]
    },
    {
     "cell_type": "code",
     "collapsed": false,
     "input": [
      "direct_view = client.direct_view()"
     ],
     "language": "python",
     "metadata": {},
     "outputs": []
    },
    {
     "cell_type": "code",
     "collapsed": false,
     "input": [
      "where_am_i_direct_results = direct_view.apply(where_am_i)\n",
      "where_am_i_results"
     ],
     "language": "python",
     "metadata": {},
     "outputs": []
    },
    {
     "cell_type": "code",
     "collapsed": false,
     "input": [
      "where_am_i_direct_results.get()"
     ],
     "language": "python",
     "metadata": {},
     "outputs": []
    },
    {
     "cell_type": "code",
     "collapsed": false,
     "input": [
      "where_am_i_direct_results.get_dict()"
     ],
     "language": "python",
     "metadata": {},
     "outputs": []
    },
    {
     "cell_type": "heading",
     "level": 4,
     "metadata": {},
     "source": [
      "Load Balanced View"
     ]
    },
    {
     "cell_type": "code",
     "collapsed": false,
     "input": [
      "lb_view = client.load_balanced_view()"
     ],
     "language": "python",
     "metadata": {},
     "outputs": []
    },
    {
     "cell_type": "code",
     "collapsed": false,
     "input": [
      "where_am_i_lb_result = lb_view.apply(where_am_i)\n",
      "where_am_i_lb_result"
     ],
     "language": "python",
     "metadata": {},
     "outputs": []
    },
    {
     "cell_type": "code",
     "collapsed": false,
     "input": [
      "where_am_i_lb_result.get()"
     ],
     "language": "python",
     "metadata": {},
     "outputs": []
    },
    {
     "cell_type": "heading",
     "level": 2,
     "metadata": {},
     "source": [
      "Distributed Grid Search for a Linear Support Vector Machine"
     ]
    },
    {
     "cell_type": "code",
     "collapsed": false,
     "input": [
      "import sys; sys.path.append('..')"
     ],
     "language": "python",
     "metadata": {},
     "outputs": []
    },
    {
     "cell_type": "code",
     "collapsed": false,
     "input": [
      "from tutolib import mmap, model_selection\n",
      "_ = reload(mmap), reload(model_selection)"
     ],
     "language": "python",
     "metadata": {},
     "outputs": []
    },
    {
     "cell_type": "code",
     "collapsed": false,
     "input": [
      "from sklearn.datasets import load_digits\n",
      "from sklearn.preprocessing import MinMaxScaler\n",
      "\n",
      "digits = load_digits()\n",
      "\n",
      "X = MinMaxScaler().fit_transform(digits.data)\n",
      "y = digits.target\n",
      "\n",
      "digits_cv_split_filenames = mmap.persist_cv_splits('digits_10', X, y, 10)\n",
      "digits_cv_split_filenames"
     ],
     "language": "python",
     "metadata": {},
     "outputs": []
    },
    {
     "cell_type": "code",
     "collapsed": false,
     "input": [
      "mmap.warm_mmap_on_cv_splits(client, digits_cv_split_filenames)"
     ],
     "language": "python",
     "metadata": {},
     "outputs": []
    },
    {
     "cell_type": "code",
     "collapsed": false,
     "input": [
      "from sklearn.svm import LinearSVC\n",
      "from collections import OrderedDict\n",
      "import numpy as np\n",
      "\n",
      "linear_svc_params = OrderedDict((\n",
      "    ('C', np.logspace(-2, 2, 5)),\n",
      "))\n",
      "linear_svc = LinearSVC()"
     ],
     "language": "python",
     "metadata": {},
     "outputs": []
    },
    {
     "cell_type": "code",
     "collapsed": false,
     "input": [
      "linear_svc_search = model_selection.RandomizedGridSeach(lb_view)\n",
      "\n",
      "linear_svc_search.launch_for_splits(linear_svc, linear_svc_params, digits_cv_split_filenames)"
     ],
     "language": "python",
     "metadata": {},
     "outputs": []
    },
    {
     "cell_type": "code",
     "collapsed": false,
     "input": [
      "linear_svc_search"
     ],
     "language": "python",
     "metadata": {},
     "outputs": []
    },
    {
     "cell_type": "code",
     "collapsed": false,
     "input": [
      "linear_svc_search.boxplot_parameters()"
     ],
     "language": "python",
     "metadata": {},
     "outputs": []
    },
    {
     "cell_type": "heading",
     "level": 2,
     "metadata": {},
     "source": [
      "Scaling Non-Linear SVM: Kernel Approximations"
     ]
    },
    {
     "cell_type": "markdown",
     "metadata": {},
     "source": [
      "### Motivation: traditional kernel SVM as in SVC has almost cubic complexity w.r.t. `n_samples`"
     ]
    },
    {
     "cell_type": "code",
     "collapsed": false,
     "input": [
      "x = np.linspace(0, int(1e3), 100)\n",
      "\n",
      "pl.plot(x, x ** 3 / 1e9)\n",
      "pl.xlabel(\"Number of training samples\")\n",
      "pl.ylabel(\"Estimated Convergence Time of SMO (in seconds)\")"
     ],
     "language": "python",
     "metadata": {},
     "outputs": []
    },
    {
     "cell_type": "code",
     "collapsed": false,
     "input": [
      "1e6 ** 3 / 1e9 / 60 / 60 / 24 / 365"
     ],
     "language": "python",
     "metadata": {},
     "outputs": []
    },
    {
     "cell_type": "heading",
     "level": 3,
     "metadata": {},
     "source": [
      "Solution: Approximate Kernel SVM with a non-linear Kernel Expansion on a Small Basis + Linear SVC"
     ]
    },
    {
     "cell_type": "code",
     "collapsed": false,
     "input": [
      "from sklearn.kernel_approximation import Nystroem\n",
      "from sklearn.pipeline import Pipeline\n",
      "\n",
      "nystroem_pipeline = Pipeline([\n",
      "    ('nystroem', Nystroem()),\n",
      "    ('clf', LinearSVC()),\n",
      "])"
     ],
     "language": "python",
     "metadata": {},
     "outputs": []
    },
    {
     "cell_type": "code",
     "collapsed": false,
     "input": [
      "nystroem_pipeline_params = OrderedDict((\n",
      "    ('nystroem__n_components', [50, 100, 200]),\n",
      "    ('nystroem__gamma', np.logspace(-2, 2, 5)),\n",
      "    ('clf__C', np.logspace(-2, 2, 5)),\n",
      "))"
     ],
     "language": "python",
     "metadata": {},
     "outputs": []
    },
    {
     "cell_type": "code",
     "collapsed": false,
     "input": [
      "nystroem_search = model_selection.RandomizedGridSeach(lb_view)\n",
      "nystroem_search.launch_for_splits(nystroem_pipeline, nystroem_pipeline_params, digits_cv_split_filenames)"
     ],
     "language": "python",
     "metadata": {},
     "outputs": []
    },
    {
     "cell_type": "code",
     "collapsed": false,
     "input": [
      "nystroem_search"
     ],
     "language": "python",
     "metadata": {},
     "outputs": []
    },
    {
     "cell_type": "code",
     "collapsed": false,
     "input": [
      "nystroem_search.boxplot_parameters()"
     ],
     "language": "python",
     "metadata": {},
     "outputs": []
    },
    {
     "cell_type": "code",
     "collapsed": false,
     "input": [
      "client.abort()"
     ],
     "language": "python",
     "metadata": {},
     "outputs": []
    },
    {
     "cell_type": "heading",
     "level": 2,
     "metadata": {},
     "source": [
      "A Word of Caution on the Scalability of this Implementation Nystroem method"
     ]
    },
    {
     "cell_type": "markdown",
     "metadata": {},
     "source": [
      "In this example we used LinearSVC that does not provide a `partial_fit` method hence require to put the Nystroem expansion of complet dataset in memory. Furthermore the `Pipeline` object does not optimize the memory usage.\n",
      "\n",
      "To make this example really scalable we would need to:\n",
      "    \n",
      "- Replace LinearSVC with an incremental linear model: Perceptron, PassiveAggressiveClassifier, SGDClassifier\n",
      "- Add support for memory efficient `partial_fit` to `sklearn.pipeline.Pipeline`\n",
      "- Change our IPython.parallel based model evaluator to use the `partial_fit` method with small minibatches in the inner model evaluation function."
     ]
    }
   ],
   "metadata": {}
  }
 ]
}