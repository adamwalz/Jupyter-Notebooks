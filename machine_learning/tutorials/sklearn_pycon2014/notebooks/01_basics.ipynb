{
 "metadata": {
  "name": "",
  "signature": "sha256:d316930c4cc59e5e0518a9249ebf1193ada2e04aef0b0dc2765ec1f16288850e"
 },
 "nbformat": 3,
 "nbformat_minor": 0,
 "worksheets": [
  {
   "cells": [
    {
     "cell_type": "markdown",
     "metadata": {},
     "source": [
      "<small><i>This notebook was put together by [Jake Vanderplas](http://www.vanderplas.com) for PyCon 2014. Source and license info is on [GitHub](https://github.com/jakevdp/sklearn_pycon2014/).</i></small>"
     ]
    },
    {
     "cell_type": "heading",
     "level": 1,
     "metadata": {},
     "source": [
      "Part 1: Some Background"
     ]
    },
    {
     "cell_type": "markdown",
     "metadata": {},
     "source": [
      "In this section we'll go through some preliminary topics and helpful background for the content in this tutorial.\n",
      "\n",
      "By the end of this section you should:\n",
      "\n",
      "- Know what sort of tasks qualify as Machine Learning problems.\n",
      "- See some simple examples of machine learning\n",
      "- Know the basics of creating and manipulating numpy arrays.\n",
      "- Know the basics of scatter plots in matplotlib."
     ]
    },
    {
     "cell_type": "heading",
     "level": 2,
     "metadata": {},
     "source": [
      "What is Machine Learning?"
     ]
    },
    {
     "cell_type": "markdown",
     "metadata": {},
     "source": [
      "In this section we will begin to explore the basic principles of machine learning.\n",
      "Machine Learning is about building programs with **tunable parameters** (typically an\n",
      "array of floating point values) that are adjusted automatically so as to improve\n",
      "their behavior by **adapting to previously seen data.**\n",
      "\n",
      "Machine Learning can be considered a subfield of **Artificial Intelligence** since those\n",
      "algorithms can be seen as building blocks to make computers learn to behave more\n",
      "intelligently by somehow **generalizing** rather that just storing and retrieving data items\n",
      "like a database system would do.\n",
      "\n",
      "We'll take a look at two very simple machine learning tasks here.\n",
      "The first is a **classification** task: the figure shows a\n",
      "collection of two-dimensional data, colored according to two different class\n",
      "labels. A classification algorithm may be used to draw a dividing boundary\n",
      "between the two clusters of points:"
     ]
    },
    {
     "cell_type": "code",
     "collapsed": false,
     "input": [
      "# Start matplotlib inline mode, so figures will appear in the notebook\n",
      "%matplotlib inline"
     ],
     "language": "python",
     "metadata": {},
     "outputs": [],
     "prompt_number": 1
    },
    {
     "cell_type": "code",
     "collapsed": false,
     "input": [
      "# Import the example plot from the figures directory\n",
      "from fig_code import plot_sgd_separator\n",
      "plot_sgd_separator()"
     ],
     "language": "python",
     "metadata": {},
     "outputs": [
      {
       "metadata": {},
       "output_type": "display_data",
       "png": "[encoded data removed]",
       "text": [
        "<matplotlib.figure.Figure at 0x107ed6390>"
       ]
      }
     ],
     "prompt_number": 2
    },
    {
     "cell_type": "markdown",
     "metadata": {},
     "source": [
      "This may seem like a trivial task, but it is a simple version of a very important concept.\n",
      "By drawing this separating line, we have learned a model which can **generalize** to new\n",
      "data: if you were to drop another point onto the plane which is unlabeled, this algorithm\n",
      "could now **predict** whether it's a blue or a red point.\n",
      "\n",
      "If you'd like to see the source code used to generate this, you can either open the\n",
      "code in the `figures` directory, or you can load the code using the `%load` magic command:"
     ]
    },
    {
     "cell_type": "code",
     "collapsed": false,
     "input": [
      "#Uncomment the %load command to load the contents of the file\n",
      "# %load fig_code/sgd_separator.py"
     ],
     "language": "python",
     "metadata": {},
     "outputs": []
    },
    {
     "cell_type": "markdown",
     "metadata": {},
     "source": [
      "The next simple task we'll look at is a **regression** task: a simple best-fit line\n",
      "to a set of data:"
     ]
    },
    {
     "cell_type": "code",
     "collapsed": false,
     "input": [
      "from fig_code import plot_linear_regression\n",
      "plot_linear_regression()"
     ],
     "language": "python",
     "metadata": {},
     "outputs": [
      {
       "metadata": {},
       "output_type": "display_data",
       "png": "[encoded data removed]",
       "text": [
        "<matplotlib.figure.Figure at 0x10a108d10>"
       ]
      }
     ],
     "prompt_number": 3
    },
    {
     "cell_type": "markdown",
     "metadata": {},
     "source": [
      "Again, this is an example of fitting a model to data, such that the model can make\n",
      "generalizations about new data.  The model has been **learned** from the training\n",
      "data, and can be used to predict the result of test data:\n",
      "here, we might be given an x-value, and the model would\n",
      "allow us to predict the y value.  Again, this might seem like a trivial problem,\n",
      "but it is a basic example of a type of operation that is fundamental to\n",
      "machine learning tasks."
     ]
    },
    {
     "cell_type": "heading",
     "level": 2,
     "metadata": {},
     "source": [
      "Numpy"
     ]
    },
    {
     "cell_type": "markdown",
     "metadata": {},
     "source": [
      "Manipulating `numpy` arrays is an important part of doing machine learning\n",
      "(or, really, any type of scientific computation) in python.  This will likely\n",
      "be review for most: we'll quickly go through some of the most important features."
     ]
    },
    {
     "cell_type": "code",
     "collapsed": false,
     "input": [
      "import numpy as np\n",
      "\n",
      "# Generating a random array\n",
      "X = np.random.random((3, 5))  # a 3 x 5 array\n",
      "\n",
      "print X"
     ],
     "language": "python",
     "metadata": {},
     "outputs": [
      {
       "output_type": "stream",
       "stream": "stdout",
       "text": [
        "[[ 0.90169387  0.6286452   0.58848652  0.8080259   0.29578181]\n",
        " [ 0.76330534  0.75639206  0.64795061  0.59743509  0.81928554]\n",
        " [ 0.18106608  0.12498338  0.50999755  0.48333688  0.36437037]]\n"
       ]
      }
     ],
     "prompt_number": 4
    },
    {
     "cell_type": "code",
     "collapsed": false,
     "input": [
      "# Accessing elements\n",
      "\n",
      "# get a single element\n",
      "print X[0, 0]\n",
      "\n",
      "# get a row\n",
      "print X[1]\n",
      "\n",
      "# get a column\n",
      "print X[:, 1]"
     ],
     "language": "python",
     "metadata": {},
     "outputs": [
      {
       "output_type": "stream",
       "stream": "stdout",
       "text": [
        "0.901693873387\n",
        "[ 0.76330534  0.75639206  0.64795061  0.59743509  0.81928554]\n",
        "[ 0.6286452   0.75639206  0.12498338]\n"
       ]
      }
     ],
     "prompt_number": 5
    },
    {
     "cell_type": "code",
     "collapsed": false,
     "input": [
      "# Transposing an array\n",
      "print X.T"
     ],
     "language": "python",
     "metadata": {},
     "outputs": []
    },
    {
     "cell_type": "code",
     "collapsed": false,
     "input": [
      "# Turning a row vector into a column vector\n",
      "y = np.linspace(0, 12, 5)\n",
      "print y\n",
      "\n",
      "# make into a column vector\n",
      "print y[:, np.newaxis]"
     ],
     "language": "python",
     "metadata": {},
     "outputs": []
    },
    {
     "cell_type": "markdown",
     "metadata": {},
     "source": [
      "There is much, much more to know, but these few operations are fundamental to what we'll\n",
      "do during this tutorial."
     ]
    },
    {
     "cell_type": "heading",
     "level": 2,
     "metadata": {},
     "source": [
      "Scipy Sparse Matrices"
     ]
    },
    {
     "cell_type": "markdown",
     "metadata": {},
     "source": [
      "We won't make very much use of these in this tutorial, but sparse matrices are very nice\n",
      "in some situations.  For example, in some machine learning tasks, especially those associated\n",
      "with textual analysis, the data may be mostly zeros.  Storing all these zeros is very\n",
      "inefficient.  We can create and manipulate sparse matrices as follows:"
     ]
    },
    {
     "cell_type": "code",
     "collapsed": false,
     "input": [
      "# Create a random array with a lot of zeros\n",
      "X = np.random.random((10, 5))\n",
      "print X"
     ],
     "language": "python",
     "metadata": {},
     "outputs": []
    },
    {
     "cell_type": "code",
     "collapsed": false,
     "input": [
      "X[X < 0.7] = 0\n",
      "print X"
     ],
     "language": "python",
     "metadata": {},
     "outputs": []
    },
    {
     "cell_type": "code",
     "collapsed": false,
     "input": [
      "from scipy import sparse\n",
      "\n",
      "# turn X into a csr (Compressed-Sparse-Row) matrix\n",
      "X_csr = sparse.csr_matrix(X)\n",
      "print X_csr"
     ],
     "language": "python",
     "metadata": {},
     "outputs": []
    },
    {
     "cell_type": "code",
     "collapsed": false,
     "input": [
      "# convert the sparse matrix to a dense array\n",
      "print X_csr.toarray()"
     ],
     "language": "python",
     "metadata": {},
     "outputs": []
    },
    {
     "cell_type": "code",
     "collapsed": false,
     "input": [
      "# Sparse matrices support linear algebra:\n",
      "y = np.random.random(X_csr.shape[1])\n",
      "z1 = X_csr.dot(y)\n",
      "z2 = X.dot(y)\n",
      "np.allclose(z1, z2)"
     ],
     "language": "python",
     "metadata": {},
     "outputs": []
    },
    {
     "cell_type": "markdown",
     "metadata": {},
     "source": [
      "The CSR representation can be very efficient for computations, but it is not\n",
      "as good for adding elements.  For that, the LIL (List-In-List) representation\n",
      "is better:"
     ]
    },
    {
     "cell_type": "code",
     "collapsed": false,
     "input": [
      "# Create an empty LIL matrix and add some items\n",
      "X_lil = sparse.lil_matrix((5, 5))\n",
      "\n",
      "for i, j in np.random.randint(0, 5, (15, 2)):\n",
      "    X_lil[i, j] = i + j\n",
      "\n",
      "print X_lil\n",
      "print X_lil.toarray()"
     ],
     "language": "python",
     "metadata": {},
     "outputs": []
    },
    {
     "cell_type": "markdown",
     "metadata": {},
     "source": [
      "Often, once an LIL matrix is created, it is useful to convert it to a CSR format\n",
      "(many scikit-learn algorithms require CSR or CSC format)"
     ]
    },
    {
     "cell_type": "code",
     "collapsed": false,
     "input": [
      "X_csr = X_lil.tocsr()\n",
      "print X_csr"
     ],
     "language": "python",
     "metadata": {},
     "outputs": []
    },
    {
     "cell_type": "markdown",
     "metadata": {},
     "source": [
      "There are several other sparse formats that can be useful for various problems:\n",
      "\n",
      "- `CSC` (compressed sparse column)\n",
      "- `BSR` (block sparse row)\n",
      "- `COO` (coordinate)\n",
      "- `DIA` (diagonal)\n",
      "- `DOK` (dictionary of keys)\n",
      "\n",
      "The ``scipy.sparse`` submodule also has a lot of functions for sparse matrices\n",
      "including linear algebra, sparse solvers, graph algorithms, and much more."
     ]
    },
    {
     "cell_type": "heading",
     "level": 2,
     "metadata": {},
     "source": [
      "Matplotlib"
     ]
    },
    {
     "cell_type": "markdown",
     "metadata": {},
     "source": [
      "Another important part of machine learning is visualization of data.  The most common\n",
      "tool for this in Python is `matplotlib`.  It is an extremely flexible package, but\n",
      "we will go over some basics here.\n",
      "\n",
      "First, something special to IPython notebook.  We can turn on the \"IPython inline\" mode,\n",
      "which will make plots show up inline in the notebook."
     ]
    },
    {
     "cell_type": "code",
     "collapsed": false,
     "input": [
      "%matplotlib inline\n",
      "import matplotlib.pyplot as plt\n",
      "import numpy as np"
     ],
     "language": "python",
     "metadata": {},
     "outputs": []
    },
    {
     "cell_type": "code",
     "collapsed": false,
     "input": [
      "# plotting a line\n",
      "\n",
      "x = np.linspace(0, 10, 100)\n",
      "plt.plot(x, np.sin(x));"
     ],
     "language": "python",
     "metadata": {},
     "outputs": []
    },
    {
     "cell_type": "code",
     "collapsed": false,
     "input": [
      "# scatter-plot points\n",
      "\n",
      "x = np.random.normal(size=500)\n",
      "y = np.random.normal(size=500)\n",
      "plt.scatter(x, y);"
     ],
     "language": "python",
     "metadata": {},
     "outputs": []
    },
    {
     "cell_type": "code",
     "collapsed": false,
     "input": [
      "# showing images\n",
      "x = np.linspace(1, 12, 100)\n",
      "y = x[:, np.newaxis]\n",
      "\n",
      "im = y * np.sin(x) * np.cos(y)\n",
      "print(im.shape)"
     ],
     "language": "python",
     "metadata": {},
     "outputs": []
    },
    {
     "cell_type": "code",
     "collapsed": false,
     "input": [
      "# imshow - note that origin is at the top-left!\n",
      "plt.imshow(im);"
     ],
     "language": "python",
     "metadata": {},
     "outputs": []
    },
    {
     "cell_type": "code",
     "collapsed": false,
     "input": [
      "# Contour plot - note that origin here is at the bottom-left!\n",
      "plt.contour(im);"
     ],
     "language": "python",
     "metadata": {},
     "outputs": []
    }
   ],
   "metadata": {}
  }
 ]
}